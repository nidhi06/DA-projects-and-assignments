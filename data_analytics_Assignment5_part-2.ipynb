{
 "cells": [
  {
   "cell_type": "markdown",
   "metadata": {},
   "source": [
    "#Part-2\n",
    "Here, we introduce new features to find a relation with the number of noble alureates per country.\n",
    "The features are: alcohol,tea,onion\n",
    "    The data for education and coffee is not sufficient to support any analysis."
   ]
  },
  {
   "cell_type": "code",
   "execution_count": 16,
   "metadata": {},
   "outputs": [
    {
     "name": "stdout",
     "output_type": "stream",
     "text": [
      "    Laureates/ 10 million  alcohol consumption(litres) Education_6(%)  \\\n",
      "0                  31.330                         10.4             23   \n",
      "1                  30.677                          8.7             14   \n",
      "2                  30.356                          6.9             11   \n",
      "3                  24.947                          7.0             13   \n",
      "4                  24.695                         10.2             17   \n",
      "5                  24.577                          8.5             15   \n",
      "6                  20.397                         12.0             14   \n",
      "7                   0.048                          9.1             na   \n",
      "8                  14.930                         10.9             11   \n",
      "9                  14.881                          3.1              7   \n",
      "10                 13.261                         10.6             14   \n",
      "11                 11.817                          9.6             17   \n",
      "12                 11.437                          9.0             11   \n",
      "13                  9.628                         11.6             14   \n",
      "14                  0.055                         11.3            NaN   \n",
      "15                  9.132                         12.4             13   \n",
      "16                  9.085                         11.9             14   \n",
      "17                  8.850                         10.8             20   \n",
      "18                  0.106                          NaN            NaN   \n",
      "19                  0.076                          4.6            NaN   \n",
      "20                  6.625                         11.2              4   \n",
      "21                  6.400                         10.3              9   \n",
      "22                  5.249                          7.5            NaN   \n",
      "23                  5.075                         10.6             12   \n",
      "24                  5.006                         12.6              9   \n",
      "25                  4.837                         10.9             24   \n",
      "26                  4.811                          5.7            NaN   \n",
      "27                  4.742                         14.1             20   \n",
      "28                  4.441                          5.2            NaN   \n",
      "29                  3.474                         16.2             17   \n",
      "..                    ...                          ...            ...   \n",
      "39                  1.932                         12.5             21   \n",
      "40                  1.835                         11.5             na   \n",
      "41                  1.826                          9.3              3   \n",
      "42                  1.735                         10.6             17   \n",
      "43                  1.603                         14.5            NaN   \n",
      "44                  1.399                         11.3            NaN   \n",
      "45                  1.372                          NaN            NaN   \n",
      "46                  1.224                          NaN            NaN   \n",
      "47                  0.065                          7.6              1   \n",
      "48                  1.152                          7.6            NaN   \n",
      "49                  1.114                          9.3              1   \n",
      "50                  1.025                          2.1            NaN   \n",
      "51                  0.504                          0.6            NaN   \n",
      "52                  0.446                         11.8            NaN   \n",
      "53                  0.437                          0.3            NaN   \n",
      "54                  0.428                          NaN            NaN   \n",
      "55                  0.415                          6.6             na   \n",
      "56                  0.373                          0.2            NaN   \n",
      "57                  0.365                          5.4            NaN   \n",
      "58                  0.321                          8.3            NaN   \n",
      "59                  0.319                          5.2            NaN   \n",
      "60                  0.291                          0.7            NaN   \n",
      "61                  0.254                          2.4              2   \n",
      "62                  0.236                          6.8              1   \n",
      "63                  0.217                          4.0            NaN   \n",
      "64                  0.199                          NaN             na   \n",
      "65                  0.186                          0.7            NaN   \n",
      "66                207.473                          NaN            NaN   \n",
      "67                108.109                         10.4            NaN   \n",
      "68                 35.267                         11.2             27   \n",
      "\n",
      "    tea consumption (kg)  coffee consumption   onion consumption (kg) Rank  \\\n",
      "0                 0.2200                  3.9                     1.0    3   \n",
      "1                 0.4000                  NaN                     7.0    4   \n",
      "2                 0.1900                  NaN                     5.0    5   \n",
      "3                 0.2200                  7.2                     2.0    6   \n",
      "4                 0.2300                  5.3                    10.0    7   \n",
      "5                 0.1000                  5.5                    17.0    8   \n",
      "6                 3.5000                  1.7                     9.0    9   \n",
      "7                 0.0180                  4.8                     7.0   72   \n",
      "8                 1.9650                  NaN                     9.0   11   \n",
      "9                 0.1500                  NaN                    12.0   12   \n",
      "10                0.2300                  5.2                     8.0   13   \n",
      "11                0.7100                  6.7                     5.0   14   \n",
      "12                0.3300                  3.1                    10.0   15   \n",
      "13                   NaN                  3.2                     6.0   16   \n",
      "14                0.0230                  NaN                     8.0   71   \n",
      "15                0.0650                  3.1                     7.0   17   \n",
      "16                0.2200                  9.6                     6.0   18   \n",
      "17                0.1400                  4.9                     1.0   19   \n",
      "18                1.0100                  NaN                    10.0   67   \n",
      "19                0.7010                  NaN                    13.0   68   \n",
      "20                0.6500                  1.3                     NaN   22   \n",
      "21                0.4100                  3.4                    10.0   23   \n",
      "22                0.0110                  4.3                    11.0   24   \n",
      "23                0.3800                  2.5                    12.0   25   \n",
      "24                0.5100                  2.6                    12.0   26   \n",
      "25                0.0390                  6.1                     9.0   27   \n",
      "26                0.2500                  3.6                    15.0   28   \n",
      "27                0.2500                  2.3                     9.0   29   \n",
      "28                   NaN                  NaN                     NaN   30   \n",
      "29                0.2900                  3.3                    12.0   31   \n",
      "..                   ...                  ...                     ...  ...   \n",
      "39                0.0920                  2.6                    14.0   40   \n",
      "40                0.5100                  NaN                     7.0   41   \n",
      "41                0.1400                  2.4                    22.0   42   \n",
      "42                0.0550                  3.0                    21.0   43   \n",
      "43                1.1900                  NaN                    20.0   44   \n",
      "44                0.0510                  2.3                     5.0   45   \n",
      "45                1.4200                  NaN                     NaN    —   \n",
      "46                0.0350                  NaN                     NaN   46   \n",
      "47                2.0800                  NaN                    14.0   69   \n",
      "48                0.1000                  NaN                    12.0   47   \n",
      "49                1.0200                  NaN                    11.0   48   \n",
      "50                0.2100                  NaN                    19.0   49   \n",
      "51                0.9800                  2.6                    29.0   50   \n",
      "52                0.5800                  NaN                    26.0   51   \n",
      "53                0.9300                  NaN                    20.0   52   \n",
      "54                   NaN                  NaN                     NaN   53   \n",
      "55                0.0044                  1.4                     9.0   54   \n",
      "56                0.5700                  NaN                     NaN   55   \n",
      "57                0.0560                  NaN                     7.0   56   \n",
      "58                0.0076                  1.6                     9.0   57   \n",
      "59                0.1300                  NaN                    16.0   58   \n",
      "60                4.3400                  NaN                    25.0   59   \n",
      "61                4.1700                  NaN                    23.0   60   \n",
      "62                0.0033                  NaN                     8.0   61   \n",
      "63                0.4700                  NaN                     2.0   62   \n",
      "64                0.0660                  2.6                     9.0   63   \n",
      "65                   NaN                  NaN                     NaN   64   \n",
      "66                   NaN                  NaN                     NaN    —   \n",
      "67                0.1100                  NaN                     NaN    1   \n",
      "68                0.1300                  NaN                     6.0    2   \n",
      "\n",
      "                    Country  Nobel laureates[1]  \n",
      "0               Switzerland                  26  \n",
      "1                    Sweden                  30  \n",
      "2                   Iceland                   1  \n",
      "3                    Norway                  13  \n",
      "4                   Denmark                  14  \n",
      "5                   Austria                  22  \n",
      "6            United Kingdom                 132  \n",
      "7                    Brazil                   1  \n",
      "8                   Ireland                   7  \n",
      "9                    Israel                  12  \n",
      "10                  Germany                 107  \n",
      "11              Netherlands                  20  \n",
      "12            United States                 368  \n",
      "13                   France                  62  \n",
      "14                  Nigeria                   1  \n",
      "15                  Hungary                   9  \n",
      "16                  Finland                   5  \n",
      "17                  Belgium                  10  \n",
      "18                 Pakistan                   2  \n",
      "19                    India                  10  \n",
      "20              New Zealand                   3  \n",
      "21                   Canada                  23  \n",
      "22   Bosnia and Herzegovina                   2  \n",
      "23                   Latvia                   1  \n",
      "24                Australia                  12  \n",
      "25                 Slovenia                   1  \n",
      "26                Macedonia                   1  \n",
      "27           Czech Republic                   5  \n",
      "28                  Liberia                   2  \n",
      "29                Lithuania                   1  \n",
      "..                      ...                 ...  \n",
      "39                 Portugal                   2  \n",
      "40             South Africa                  10  \n",
      "41                   Greece                   2  \n",
      "42                    Spain                   8  \n",
      "43                   Russia                  23  \n",
      "44                 Bulgaria                   1  \n",
      "45                Hong Kong                   1  \n",
      "46                Guatemala                   2  \n",
      "47                    China                   9  \n",
      "48                Argentina                   5  \n",
      "49                    Chile                   2  \n",
      "50               Azerbaijan                   2  \n",
      "51                  Algeria                   2  \n",
      "52                  Ukraine                   2  \n",
      "53                    Egypt                   4  \n",
      "54                   Taiwan                   1  \n",
      "55                 Colombia                   2  \n",
      "56                    Yemen                   1  \n",
      "57                    Ghana                   1  \n",
      "58                Venezuela                   1  \n",
      "59                     Peru                   1  \n",
      "60                  Morocco                   1  \n",
      "61                   Turkey                   2  \n",
      "62                   Mexico                   3  \n",
      "63                    Kenya                   1  \n",
      "64             Korea, South                   1  \n",
      "65                  Myanmar                   1  \n",
      "66            Faroe Islands                   1  \n",
      "67              Saint Lucia                   2  \n",
      "68               Luxembourg                   3  \n",
      "\n",
      "[69 rows x 9 columns]\n"
     ]
    }
   ],
   "source": [
    "import pandas as pd\n",
    "df4=pd.read_csv(\"noble_prize.csv\")\n",
    "print(df4)"
   ]
  },
  {
   "cell_type": "code",
   "execution_count": 29,
   "metadata": {},
   "outputs": [
    {
     "name": "stdout",
     "output_type": "stream",
     "text": [
      "0.151733029905\n"
     ]
    }
   ],
   "source": [
    "d=df4['Laureates/ 10 million'].corr(df4['alcohol consumption(litres)'])\n",
    "print(d)"
   ]
  },
  {
   "cell_type": "code",
   "execution_count": null,
   "metadata": {
    "collapsed": true
   },
   "outputs": [],
   "source": [
    "import matplotlib.pyplot as plt\n",
    "df4.plot(x='alcohol consumption(litres)', y='Laureates/ 10 million', style='o')\n",
    "plt.xlim(0,20)\n",
    "plt.ylim(0,40)\n",
    "plt.title('Relationship Between Alcohol Consumption and Laureates ')\n",
    "\n",
    "#add x and y labels\n",
    "plt.xlabel('Alcohol Consumption Per Capita( kg/head )')\n",
    "plt.ylabel('Laureates/ 10 million')\n",
    "plt.show()"
   ]
  },
  {
   "cell_type": "code",
   "execution_count": 30,
   "metadata": {},
   "outputs": [
    {
     "name": "stdout",
     "output_type": "stream",
     "text": [
      "-0.0879555516563\n"
     ]
    }
   ],
   "source": [
    "d=df4['Laureates/ 10 million'].corr(df4['tea consumption (kg)'])\n",
    "print(d)"
   ]
  },
  {
   "cell_type": "code",
   "execution_count": 44,
   "metadata": {},
   "outputs": [
    {
     "data": {
      "image/png": "[encoded data removed]",
      "text/plain": [
       "<matplotlib.figure.Figure at 0x11d98d2b0>"
      ]
     },
     "metadata": {},
     "output_type": "display_data"
    }
   ],
   "source": [
    "import matplotlib.pyplot as plt\n",
    "df4.plot(x='tea consumption (kg)', y='Laureates/ 10 million', style='o')\n",
    "plt.xlim(0,5)\n",
    "plt.ylim(0,40)\n",
    "plt.title('Relationship Between tea Consumption and Laureates ')\n",
    "\n",
    "#add x and y labels\n",
    "plt.xlabel('tea consumption (kg)')\n",
    "plt.ylabel('Laureates/ 10 million')\n",
    "plt.show()"
   ]
  },
  {
   "cell_type": "code",
   "execution_count": 31,
   "metadata": {},
   "outputs": [
    {
     "name": "stdout",
     "output_type": "stream",
     "text": [
      "-0.403575131675\n"
     ]
    }
   ],
   "source": [
    "d=df4['Laureates/ 10 million'].corr(df4['onion consumption (kg)'])\n",
    "print(d)"
   ]
  },
  {
   "cell_type": "code",
   "execution_count": 40,
   "metadata": {
    "scrolled": true
   },
   "outputs": [
    {
     "data": {
      "image/png": "[encoded data removed]",
      "text/plain": [
       "<matplotlib.figure.Figure at 0x119f6b080>"
      ]
     },
     "metadata": {},
     "output_type": "display_data"
    }
   ],
   "source": [
    "import matplotlib.pyplot as plt\n",
    "df4.plot(x='onion consumption (kg)', y='Laureates/ 10 million', style='o')\n",
    "plt.xlim(0,30)\n",
    "plt.ylim(0,40)\n",
    "plt.title('Relationship Between onion Consumption and Laureates ')\n",
    "\n",
    "#add x and y labels\n",
    "plt.xlabel('onion consumption (kg)')\n",
    "plt.ylabel('Laureates/ 10 million')\n",
    "plt.show()"
   ]
  },
  {
   "cell_type": "code",
   "execution_count": 45,
   "metadata": {},
   "outputs": [
    {
     "name": "stdout",
     "output_type": "stream",
     "text": [
      "0.342523894115\n"
     ]
    }
   ],
   "source": [
    "d=df4['tea consumption (kg)'].corr(df4['onion consumption (kg)'])\n",
    "print(d)"
   ]
  },
  {
   "cell_type": "code",
   "execution_count": 47,
   "metadata": {},
   "outputs": [
    {
     "name": "stdout",
     "output_type": "stream",
     "text": [
      "-0.248357306852\n"
     ]
    }
   ],
   "source": [
    "#Alcohol Consumption Per Capita( kg/head )\n",
    "d=df4['tea consumption (kg)'].corr(df4['alcohol consumption(litres)'])\n",
    "print(d)"
   ]
  },
  {
   "cell_type": "code",
   "execution_count": 48,
   "metadata": {},
   "outputs": [
    {
     "name": "stdout",
     "output_type": "stream",
     "text": [
      "-0.219427858488\n"
     ]
    }
   ],
   "source": [
    "#Alcohol Consumption Per Capita( kg/head )\n",
    "d=df4['onion consumption (kg)'].corr(df4['alcohol consumption(litres)'])\n",
    "print(d)"
   ]
  },
  {
   "cell_type": "code",
   "execution_count": null,
   "metadata": {
    "collapsed": true
   },
   "outputs": [],
   "source": []
  }
 ],
 "metadata": {
  "kernelspec": {
   "display_name": "Python 3",
   "language": "python",
   "name": "python3"
  },
  "language_info": {
   "codemirror_mode": {
    "name": "ipython",
    "version": 3
   },
   "file_extension": ".py",
   "mimetype": "text/x-python",
   "name": "python",
   "nbconvert_exporter": "python",
   "pygments_lexer": "ipython3",
   "version": "3.6.1"
  }
 },
 "nbformat": 4,
 "nbformat_minor": 2
}
